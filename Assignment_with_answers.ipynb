{
 "cells": [
  {
   "cell_type": "markdown",
   "metadata": {},
   "source": [
    "# CS4305TU: Week 6 - Artificial Neural Network - Assignment\n",
    "## Investigating neighbourhood choice behaviour using ANNs\n",
    "**7 & 11 October 2021**\n",
    "\n",
    "- Sander van Cranenburgh\n",
    "- Francisco Garrido-Valenzuela "
   ]
  },
  {
   "cell_type": "markdown",
   "metadata": {},
   "source": [
    "### General information\n",
    "\n",
    "* For this assignment we will use *Stated Choice data* on residential location choice, collected in:\n",
    "    - Mainz, Germany\n",
    "    - Hanover, Germany\n",
    "    - Bern, Switzerland\n",
    "    - Zurich, Switzerland \n",
    "\n",
    "- For more details on the data, see the description provided on [Brightspace](https://brightspace.tudelft.nl/d2l/le/content/399675/viewContent/2506146/View). \n",
    "\n",
    "- In total you can earn **6.0** points in this assignment. \n",
    "\n",
    "- Add **Code cells** to complement your analyses. You can draw a lot form the snippets of codes we used for the in-class exercises.\n",
    "\n",
    "- \n",
    "\n",
    "**Provide your answers in the allocated markdown boxes** (with the red font color)\n",
    "\n",
    "\n",
    "### Set up your environment\n",
    "\n",
    "You need to set up your environment based on which platform you would like to use. In this case we offer two options:\n",
    "\n",
    "- Google Colaboratory (Colab)\n",
    "- Jupyter Lab or Notebooks (Local)\n",
    "\n",
    "#### Using Colab\n",
    "\n",
    "Students using **Colab**, just need to install **Biogeme**. Biogeme is a Python package designed for the maximum likelihood estimation of parametric models in general, with a special emphasis on discrete choice models. Just run the following notebook cell:"
   ]
  },
  {
   "cell_type": "code",
   "execution_count": 1,
   "metadata": {},
   "outputs": [],
   "source": [
    "# Uncomment and run this cell if you are using Google Colab (keep the exclamation mark)\n",
    "#!pip install biogeme\n",
    "#!git clone https://github.com/cs4305tu/assignment\n",
    "#root = 'assignment/'"
   ]
  },
  {
   "cell_type": "markdown",
   "metadata": {},
   "source": [
    "#### Using local environment\n",
    "\n",
    "Students using their *local environments*, need to install all the dependencies used in this *Week 6*, to ensure compatibility, they also need to check the versions of each dependency. All dependencies are contained in the text file: **requirements.txt**. Just run the following notebook cell:"
   ]
  },
  {
   "cell_type": "code",
   "execution_count": 2,
   "metadata": {},
   "outputs": [],
   "source": [
    "# Uncomment and run this cell if you are using your local environment (keep the exclamation mark)\n",
    "#!pip3 install -r requirements.txt\n",
    "#root = ''"
   ]
  },
  {
   "cell_type": "markdown",
   "metadata": {},
   "source": [
    "### Required Python packages\n",
    "\n",
    "In the following cell add all the packages you need to finish this assignment."
   ]
  },
  {
   "cell_type": "code",
   "execution_count": 3,
   "metadata": {},
   "outputs": [
    {
     "name": "stdout",
     "output_type": "stream",
     "text": [
      "Using tensorflow  2.6.0\n"
     ]
    }
   ],
   "source": [
    "import pandas as pd\n",
    "import tensorflow as tf\n",
    "print(\"Using tensorflow \",tf.__version__)\n",
    "from sklearn.model_selection import train_test_split\n",
    "from sklearn.preprocessing import StandardScaler\n",
    "from tensorflow.keras.optimizers import Adam\n",
    "from tensorflow.keras.callbacks import EarlyStopping\n",
    "from keras import backend as K\n",
    "from keras.layers import Input, Dense, Activation\n",
    "from keras.layers import Conv2D, Add, Reshape\n",
    "from keras.models import Model\n",
    "from keras.utils.np_utils import to_categorical   \n",
    "import matplotlib.pyplot as plt\n",
    "import numpy as np\n",
    "\n",
    "import biogeme.biogeme as bio\n",
    "import biogeme.database as db\n",
    "import biogeme.optimization as opt\n",
    "import biogeme.messaging as msg\n",
    "from biogeme import models\n",
    "from biogeme.expressions import Beta"
   ]
  },
  {
   "cell_type": "markdown",
   "metadata": {},
   "source": [
    "### Opening the database"
   ]
  },
  {
   "cell_type": "code",
   "execution_count": 4,
   "metadata": {},
   "outputs": [
    {
     "data": {
      "text/html": [
       "<div>\n",
       "<style scoped>\n",
       "    .dataframe tbody tr th:only-of-type {\n",
       "        vertical-align: middle;\n",
       "    }\n",
       "\n",
       "    .dataframe tbody tr th {\n",
       "        vertical-align: top;\n",
       "    }\n",
       "\n",
       "    .dataframe thead th {\n",
       "        text-align: right;\n",
       "    }\n",
       "</style>\n",
       "<table border=\"1\" class=\"dataframe\">\n",
       "  <thead>\n",
       "    <tr style=\"text-align: right;\">\n",
       "      <th></th>\n",
       "      <th>ID</th>\n",
       "      <th>ID2</th>\n",
       "      <th>STORES1</th>\n",
       "      <th>TRANSPORT1</th>\n",
       "      <th>CITY1</th>\n",
       "      <th>NOISE1</th>\n",
       "      <th>GREEN1</th>\n",
       "      <th>FOREIGN1</th>\n",
       "      <th>STORES2</th>\n",
       "      <th>TRANSPORT2</th>\n",
       "      <th>...</th>\n",
       "      <th>NOISE3</th>\n",
       "      <th>GREEN3</th>\n",
       "      <th>FOREIGN3</th>\n",
       "      <th>CHOICE</th>\n",
       "      <th>SSTADT</th>\n",
       "      <th>RESPCITY</th>\n",
       "      <th>WOMAN</th>\n",
       "      <th>AGE</th>\n",
       "      <th>ENVCONC</th>\n",
       "      <th>COMPLETE</th>\n",
       "    </tr>\n",
       "  </thead>\n",
       "  <tbody>\n",
       "    <tr>\n",
       "      <th>0</th>\n",
       "      <td>2</td>\n",
       "      <td>5</td>\n",
       "      <td>10</td>\n",
       "      <td>5</td>\n",
       "      <td>1</td>\n",
       "      <td>2</td>\n",
       "      <td>2</td>\n",
       "      <td>0.4</td>\n",
       "      <td>15</td>\n",
       "      <td>10</td>\n",
       "      <td>...</td>\n",
       "      <td>4</td>\n",
       "      <td>4</td>\n",
       "      <td>0.2</td>\n",
       "      <td>1</td>\n",
       "      <td>3</td>\n",
       "      <td>3</td>\n",
       "      <td>0</td>\n",
       "      <td>42</td>\n",
       "      <td>3.0</td>\n",
       "      <td>1</td>\n",
       "    </tr>\n",
       "    <tr>\n",
       "      <th>1</th>\n",
       "      <td>2</td>\n",
       "      <td>6</td>\n",
       "      <td>15</td>\n",
       "      <td>5</td>\n",
       "      <td>4</td>\n",
       "      <td>4</td>\n",
       "      <td>1</td>\n",
       "      <td>0.1</td>\n",
       "      <td>2</td>\n",
       "      <td>10</td>\n",
       "      <td>...</td>\n",
       "      <td>2</td>\n",
       "      <td>3</td>\n",
       "      <td>0.3</td>\n",
       "      <td>2</td>\n",
       "      <td>3</td>\n",
       "      <td>3</td>\n",
       "      <td>0</td>\n",
       "      <td>42</td>\n",
       "      <td>3.0</td>\n",
       "      <td>1</td>\n",
       "    </tr>\n",
       "    <tr>\n",
       "      <th>2</th>\n",
       "      <td>2</td>\n",
       "      <td>7</td>\n",
       "      <td>10</td>\n",
       "      <td>15</td>\n",
       "      <td>1</td>\n",
       "      <td>3</td>\n",
       "      <td>1</td>\n",
       "      <td>0.4</td>\n",
       "      <td>15</td>\n",
       "      <td>2</td>\n",
       "      <td>...</td>\n",
       "      <td>1</td>\n",
       "      <td>3</td>\n",
       "      <td>0.2</td>\n",
       "      <td>3</td>\n",
       "      <td>3</td>\n",
       "      <td>3</td>\n",
       "      <td>0</td>\n",
       "      <td>42</td>\n",
       "      <td>3.0</td>\n",
       "      <td>1</td>\n",
       "    </tr>\n",
       "    <tr>\n",
       "      <th>3</th>\n",
       "      <td>2</td>\n",
       "      <td>8</td>\n",
       "      <td>15</td>\n",
       "      <td>15</td>\n",
       "      <td>5</td>\n",
       "      <td>4</td>\n",
       "      <td>4</td>\n",
       "      <td>0.4</td>\n",
       "      <td>2</td>\n",
       "      <td>2</td>\n",
       "      <td>...</td>\n",
       "      <td>2</td>\n",
       "      <td>2</td>\n",
       "      <td>0.2</td>\n",
       "      <td>2</td>\n",
       "      <td>3</td>\n",
       "      <td>3</td>\n",
       "      <td>0</td>\n",
       "      <td>42</td>\n",
       "      <td>3.0</td>\n",
       "      <td>1</td>\n",
       "    </tr>\n",
       "    <tr>\n",
       "      <th>4</th>\n",
       "      <td>3</td>\n",
       "      <td>9</td>\n",
       "      <td>15</td>\n",
       "      <td>5</td>\n",
       "      <td>5</td>\n",
       "      <td>1</td>\n",
       "      <td>3</td>\n",
       "      <td>0.4</td>\n",
       "      <td>2</td>\n",
       "      <td>10</td>\n",
       "      <td>...</td>\n",
       "      <td>3</td>\n",
       "      <td>1</td>\n",
       "      <td>0.2</td>\n",
       "      <td>2</td>\n",
       "      <td>2</td>\n",
       "      <td>2</td>\n",
       "      <td>1</td>\n",
       "      <td>41</td>\n",
       "      <td>4.5</td>\n",
       "      <td>1</td>\n",
       "    </tr>\n",
       "  </tbody>\n",
       "</table>\n",
       "<p>5 rows × 27 columns</p>\n",
       "</div>"
      ],
      "text/plain": [
       "   ID  ID2  STORES1  TRANSPORT1  CITY1  NOISE1  GREEN1  FOREIGN1  STORES2  \\\n",
       "0   2    5       10           5      1       2       2       0.4       15   \n",
       "1   2    6       15           5      4       4       1       0.1        2   \n",
       "2   2    7       10          15      1       3       1       0.4       15   \n",
       "3   2    8       15          15      5       4       4       0.4        2   \n",
       "4   3    9       15           5      5       1       3       0.4        2   \n",
       "\n",
       "   TRANSPORT2  ...  NOISE3  GREEN3  FOREIGN3  CHOICE  SSTADT  RESPCITY  WOMAN  \\\n",
       "0          10  ...       4       4       0.2       1       3         3      0   \n",
       "1          10  ...       2       3       0.3       2       3         3      0   \n",
       "2           2  ...       1       3       0.2       3       3         3      0   \n",
       "3           2  ...       2       2       0.2       2       3         3      0   \n",
       "4          10  ...       3       1       0.2       2       2         2      1   \n",
       "\n",
       "   AGE  ENVCONC  COMPLETE  \n",
       "0   42      3.0         1  \n",
       "1   42      3.0         1  \n",
       "2   42      3.0         1  \n",
       "3   42      3.0         1  \n",
       "4   41      4.5         1  \n",
       "\n",
       "[5 rows x 27 columns]"
      ]
     },
     "execution_count": 4,
     "metadata": {},
     "output_type": "execute_result"
    }
   ],
   "source": [
    "# Load the data into a dataframe\n",
    "df = pd.read_csv(f'{root}datasets/neighbourhood_choice2018.dat', sep='\\t')\n",
    "df.head()"
   ]
  },
  {
   "cell_type": "markdown",
   "metadata": {},
   "source": [
    "## Questions"
   ]
  },
  {
   "cell_type": "markdown",
   "metadata": {},
   "source": [
    "### Q1. Do a proper descriptive analysis of the data set (1.0 pt)\n",
    "\n",
    "It is good practice do a descriptive analysis of the data you want to model, prior to the real modelling. So inspect e.g. what levels the attributes (features) take, correlations, class (im)balances, redudant variables, missing values, etc. to attain a good feeling for the data."
   ]
  },
  {
   "cell_type": "code",
   "execution_count": 5,
   "metadata": {},
   "outputs": [
    {
     "name": "stdout",
     "output_type": "stream",
     "text": [
      "Attribute levels for STORES [min] =  [ 2  5 10 15]\n",
      "Attribute levels for TRANSPORT [min] =  [ 2  5 10 15]\n",
      "Attribute levels for CITY [km] =  [1 2 4 5]\n",
      "Attribute levels for NOISE =  [1 2 3 4]\n",
      "Attribute levels for GREEN =  [1 2 3 4]\n",
      "Attribute levels for FOREIGN [%/100] =  [0.1 0.2 0.3 0.4]\n",
      "[1 2 3] [3440 3266 3014]\n"
     ]
    },
    {
     "data": {
      "text/plain": [
       "Text(0, 0.5, 'Frequency')"
      ]
     },
     "execution_count": 5,
     "metadata": {},
     "output_type": "execute_result"
    },
    {
     "data": {
      "image/png": "[encoded data removed]",
      "text/plain": [
       "<Figure size 432x288 with 4 Axes>"
      ]
     },
     "metadata": {
      "needs_background": "light"
     },
     "output_type": "display_data"
    },
    {
     "data": {
      "image/png": "[encoded data removed]",
      "text/plain": [
       "<Figure size 432x288 with 1 Axes>"
      ]
     },
     "metadata": {
      "needs_background": "light"
     },
     "output_type": "display_data"
    }
   ],
   "source": [
    "# Attribute levels\n",
    "print('Attribute levels for STORES [min] = ',np.unique(df[['STORES1', 'STORES2','STORES3']].values))\n",
    "print('Attribute levels for TRANSPORT [min] = ',np.unique(df[['TRANSPORT1', 'TRANSPORT2','TRANSPORT3']].values))\n",
    "print('Attribute levels for CITY [km] = ',np.unique(df[['CITY1', 'CITY2','CITY3']].values))\n",
    "print('Attribute levels for NOISE = ',np.unique(df[['NOISE1', 'NOISE2','NOISE3']].values))\n",
    "print('Attribute levels for GREEN = ',np.unique(df[['GREEN1', 'GREEN2','GREEN3']].values))\n",
    "print('Attribute levels for FOREIGN [%/100] = ',np.unique(df[['FOREIGN1', 'FOREIGN2','FOREIGN3']].values))\n",
    "\n",
    "# Correlations between attribute levels\n",
    "import seaborn as sb\n",
    "plt.figure(1)\n",
    "plt.subplot(121)\n",
    "plot1 = sb.heatmap(df[['STORES1', 'STORES2','STORES3','TRANSPORT1', 'TRANSPORT2','TRANSPORT3','CITY1', 'CITY2','CITY3','NOISE1', 'NOISE2','NOISE3','GREEN1', 'GREEN2','GREEN3','FOREIGN1', 'FOREIGN2','FOREIGN3']].corr(), cmap=\"YlGnBu\", annot=False)\n",
    "\n",
    "# Correlations between covariates\n",
    "plt.subplot(122)\n",
    "plot2 = sb.heatmap(df[['ID','ID2','SSTADT','RESPCITY','WOMAN','AGE','ENVCONC','COMPLETE']].corr(), cmap=\"YlGnBu\", annot=False)\n",
    "# Tweak spacing between subplots to prevent labels from overlapping\n",
    "plt.subplots_adjust(wspace = 1)\n",
    "\n",
    "unique, counts = np.unique(df[['CHOICE']], return_counts=True)\n",
    "print(unique,counts)\n",
    "\n",
    "# Show how often each alternative is chosen\n",
    "plt.figure(2)\n",
    "plt.hist(df.CHOICE, bins = [0.75, 1.25, 1.75, 2.25, 2.75, 3.25])\n",
    "plt.xticks((1, 2, 3))\n",
    "plt.xlabel('Choice')\n",
    "plt.ylabel('Frequency')"
   ]
  },
  {
   "cell_type": "markdown",
   "metadata": {},
   "source": [
    "<font color='red'>\n",
    "\n",
    "**ANSWER Q1** <br>\n",
    "..."
   ]
  },
  {
   "cell_type": "markdown",
   "metadata": {},
   "source": [
    "### Q2. Estimate a RUM-MNL discrete choice model (1.0 pt)\n",
    "\n",
    "Assume utility is linear additive-utility: \n",
    "\n",
    "$ V_{in} = \\sum_{m}\\beta_m x_{imn}$\n",
    "\n",
    "And estimate marginal utilities (i.e. betas) for: \n",
    "\n",
    "1. Distance to Transport [min] (**Note** that distances are given in minutes)\n",
    "2. Distance to City [km]\n",
    "3. Distance to Stores [min] (**Note** that distances are given in minutes)\n",
    "4. Traffic Noise\n",
    "5. Green area\n",
    "6. Share of foreigners [%]\n",
    "\n",
    "**Note:** Do not add any other variables (features) to the model.\n",
    "\n",
    "**To get the scores, address the following:**\n",
    "\n",
    "- (A) Report the parameter estimates, and interpret them. i.e. do they have the expected sign? (0.5 pts)\n",
    "- (B) Compute and report the cross-entropy (0.5 pts)"
   ]
  },
  {
   "cell_type": "code",
   "execution_count": 6,
   "metadata": {},
   "outputs": [
    {
     "name": "stdout",
     "output_type": "stream",
     "text": [
      "Estimated parameters\n",
      "----------\n",
      "                    Value   Std err     t-test  p-value\n",
      "B_Green          0.415892  0.011616  35.802456      0.0\n",
      "B_Noise         -0.437467  0.011335 -38.594237      0.0\n",
      "B_distCity      -0.167376  0.007949 -21.055686      0.0\n",
      "B_distStores    -0.034432  0.002577 -13.364003      0.0\n",
      "B_distTransport -0.073961  0.002548 -29.025833      0.0\n",
      "B_shareForeign  -1.195431  0.109407 -10.926467      0.0\n",
      "Cross entropy of the DCM is 0.889\n"
     ]
    }
   ],
   "source": [
    "database = db.Database('Dataset CS4305TU assignment', df)\n",
    "\n",
    "# The following statement allows you to use the names of the variable as Python variables.\n",
    "globals().update(database.variables)\n",
    "\n",
    "B_distTransport = Beta('B_distTransport', 0, None, None, 0)\n",
    "B_distCity = Beta('B_distCity', 0, None, None, 0)\n",
    "B_distStores = Beta('B_distStores', 0, None, None, 0)\n",
    "B_Noise = Beta('B_Noise', 0, None, None, 0)\n",
    "B_Green = Beta('B_Green', 0, None, None, 0)\n",
    "B_shareForeign = Beta('B_shareForeign', 0, None, None, 0)\n",
    "\n",
    "# Utility functions\n",
    "V1 = B_distTransport * TRANSPORT1 + B_distCity * CITY1 + B_distStores * STORES1 + B_Noise * NOISE1 + B_Green * GREEN1 + B_shareForeign * FOREIGN1\n",
    "V2 = B_distTransport * TRANSPORT2 + B_distCity * CITY2 + B_distStores * STORES2 + B_Noise * NOISE2 + B_Green * GREEN2 + B_shareForeign * FOREIGN2\n",
    "V3 = B_distTransport * TRANSPORT3 + B_distCity * CITY3 + B_distStores * STORES3 + B_Noise * NOISE3 + B_Green * GREEN3 + B_shareForeign * FOREIGN3\n",
    "\n",
    "# Associate utility functions with the numbering of alternatives in df.CHOICE\n",
    "V = {1: V1, 2: V2, 3: V3}\n",
    "\n",
    "# Associate the availability conditions with the alternatives\n",
    "av = {1: 1, 2: 1, 3: 1}\n",
    "\n",
    "# Definition of the model. This is the contribution of each observation to the log likelihood function.\n",
    "prob = models.loglogit(V, av, CHOICE)\n",
    "\n",
    "# Create the Biogeme object\n",
    "biogeme = bio.BIOGEME(database, prob)\n",
    "biogeme.modelName = 'My first discrete choice model'\n",
    "biogeme.generatePickle = False\n",
    "biogeme.generateHtml = False\n",
    "\n",
    "# Calculate the null log likelihood for reporting.\n",
    "biogeme.calculateNullLoglikelihood(av)\n",
    "\n",
    "# Estimate the parameters\n",
    "results = biogeme.estimate()\n",
    "\n",
    "# Report the results in a pandas table\n",
    "print('Estimated parameters')\n",
    "print('----------')\n",
    "pandasResults = results.getEstimatedParameters()\n",
    "print(pandasResults[['Value','Std err','t-test','p-value']])\n",
    "\n",
    "# Compute cross entropy\n",
    "estimation_results = results.getGeneralStatistics()\n",
    "LL_dcm = estimation_results.get('Final log likelihood')\n",
    "cross_entropy_DCM = -(LL_dcm[0])/len(df)\n",
    "print('Cross entropy of the DCM is', \"{:.3f}\".format(cross_entropy_DCM ))"
   ]
  },
  {
   "cell_type": "markdown",
   "metadata": {},
   "source": [
    "<font color='red'>\n",
    "\n",
    "**ANSWER Q2** <br>\n",
    "\n",
    "The signs of the parameters tell us that: <br>\n",
    "* More Green area is preferred over less Green area (as expected) <br>\n",
    "* Less Noise area is preferred over more Noise (as expected)<br>\n",
    "* Living nearer to the city centre/ grocery stores / Public transport / is preferred over living further away from them (as expected)<br>\n",
    "* A smaller share of foreigners is preferred over a larger share of foreigners<br>\n",
    "<br>\n",
    "Overall, all parameters are in line with expectations<br>\n",
    "<br>\n",
    "The cross entropy for the DCM is = 0.889"
   ]
  },
  {
   "cell_type": "markdown",
   "metadata": {},
   "source": [
    "### Q3. Based on your results, compute the WtP of the average decision maker to reduce the share of foreigners in a neighbourhood by 1 percentage point in terms of the distance to the grocery stores (0.5 pts)\n",
    "\n",
    "Thus, the answer must be of the following form: .... [minutes/percentage point].\n"
   ]
  },
  {
   "cell_type": "code",
   "execution_count": 7,
   "metadata": {},
   "outputs": [
    {
     "name": "stdout",
     "output_type": "stream",
     "text": [
      "Willingness-to-Pay estimates\n",
      "The willingness to pay to reduce the share of foreigners by 1 percentage point =  0.347 minutes\n"
     ]
    }
   ],
   "source": [
    "print('Willingness-to-Pay estimates')\n",
    "betas = results.getBetaValues()\n",
    "WtP_shareForeign_stores = betas['B_shareForeign']/(betas['B_distStores']*100)\n",
    "WtP_shareForeign_city   = betas['B_shareForeign']/(betas['B_distCity']*100)\n",
    "print('The willingness to pay to reduce the share of foreigners by 1 percentage point = ',  \"{:.3f}\".format(WtP_shareForeign_stores),'minutes')\n",
    "# print('The willingness to pay to reduce the share of foreigners by 1 percentage point = ',  \"{:.3f}\".format(WtP_shareForeign_city),'kilometre')"
   ]
  },
  {
   "cell_type": "markdown",
   "metadata": {},
   "source": [
    "<font color='red'>\n",
    "\n",
    "**ANSWER Q3** <br>\n",
    "..."
   ]
  },
  {
   "cell_type": "markdown",
   "metadata": {},
   "source": [
    "### Q4. Train a hybrid RUM-MNL-ANN model (1.5 pts)\n",
    "\n",
    "Since we are interested in the WtP of Q3, make sure when building the hybrid model to place the features of the share of foreigners and of the distance to the grocery stores in the *MNL part of the model*. For the *ANN part of the model* use 2 hidden layers, with 5 nodes each. \n",
    "\n",
    "\n",
    "**To get the scores, address the following:**\n",
    "\n",
    "\n",
    "- (A) Build the model, plot the loss as a function of the epochs & report the cross entropy of your final model based on the test data. (1.0 pt)\n",
    "- (B) Compare the model performance to that of the discrete choice model. Interpret the result. (0.5 pts)"
   ]
  },
  {
   "cell_type": "code",
   "execution_count": 8,
   "metadata": {},
   "outputs": [],
   "source": [
    "# Define the features and the output class\n",
    "X = df[['STORES1','TRANSPORT1','CITY1','NOISE1','GREEN1','FOREIGN1','STORES2','TRANSPORT2','CITY2','NOISE2','GREEN2','FOREIGN2','STORES3','TRANSPORT3','CITY3','NOISE3','GREEN3','FOREIGN3','SSTADT','WOMAN','AGE','ENVCONC']]\n",
    "# print(X.head)\n",
    "\n",
    "# Define the output target\n",
    "Y = df['CHOICE']\n",
    "Y_cat = to_categorical(Y-1, num_classes = 3)"
   ]
  },
  {
   "cell_type": "code",
   "execution_count": 9,
   "metadata": {},
   "outputs": [],
   "source": [
    "NALT = 3           # Number of alterantives in the data set.\n",
    "no_X_MNL =   2     # Number of attributes with behavioural interest (-->MNL model part).  In this example we are particularly interested in the WtP for extra storage space --> Cost & Storage\n",
    "no_X_ANN = 3*4+4   # Number of features without behavioural interest (-->ANN model part). In this example we are not behaviourall interested in Camera, Size, and the socio demographic variables\n",
    "num_nodes = 5      # Number of nodes in hidden layer(s). Again we use 2 hidden layers with *num_nodes* nodes each\n",
    "nEpoch = 20        # Number epochs for training (max). "
   ]
  },
  {
   "cell_type": "code",
   "execution_count": 10,
   "metadata": {},
   "outputs": [
    {
     "name": "stderr",
     "output_type": "stream",
     "text": [
      "2021-09-28 17:28:27.002753: I tensorflow/core/platform/cpu_feature_guard.cc:142] This TensorFlow binary is optimized with oneAPI Deep Neural Network Library (oneDNN) to use the following CPU instructions in performance-critical operations:  AVX2 FMA\n",
      "To enable them in other operations, rebuild TensorFlow with the appropriate compiler flags.\n"
     ]
    }
   ],
   "source": [
    "# INPUT FOR MNL PART\n",
    "X_MNL = Input((no_X_MNL, NALT,1), name = 'Features2MNL')\n",
    "\n",
    "# COMPUTE UTILITY FOR MNL\n",
    "V_MNL = Conv2D(filters = 1, kernel_size = [no_X_MNL,1], strides = (1,1), padding = 'valid', name = 'MNL_layer', use_bias = False, trainable = True)(X_MNL)"
   ]
  },
  {
   "cell_type": "code",
   "execution_count": 11,
   "metadata": {},
   "outputs": [],
   "source": [
    "# INPUT FOR ANN PART\n",
    "X_ANN = Input((no_X_ANN), name ='Features2ANN')\n",
    "\n",
    "# CREATE HIDDEN LAYER(S) OF ANN\n",
    "layer1_ANN = Dense(units = num_nodes, name = \"ANN_layer1\", use_bias = True)(X_ANN)      \n",
    "layer2_ANN = Dense(units = num_nodes, name = \"ANN_layer2\", use_bias = True)(layer1_ANN)\n",
    "\n",
    "# COMPUTE UTILITY FOR ANN \n",
    "V_ANN = Dense(units = NALT, name = \"V_ANN\")(layer2_ANN) "
   ]
  },
  {
   "cell_type": "code",
   "execution_count": 12,
   "metadata": {},
   "outputs": [],
   "source": [
    "# RESHAPE TENSORS TO [1 X NALT]\n",
    "V_MNL = Reshape([NALT], name = 'Flatten_Dim_MNL')(V_MNL)\n",
    "V_ANN = Reshape([NALT], name = 'Flatten_Dim_ANN')(V_ANN) \n",
    "\n",
    "# SUM THE UTILITIES OF BOTH MODEL PARTS\n",
    "V_MNL_ANN = Add(name = \"Combining_Vs\")([V_MNL,V_ANN])\n",
    "\n",
    "# CREATE LOGIT (AKA SOFTMAX ) OUTPUT LAYER\n",
    "logits = Activation('softmax', name = 'Probability')(V_MNL_ANN)\n",
    "\n",
    "# BUILD THE MODEL\n",
    "model = Model(inputs = [X_MNL, X_ANN], outputs = logits)"
   ]
  },
  {
   "cell_type": "code",
   "execution_count": 13,
   "metadata": {},
   "outputs": [
    {
     "name": "stdout",
     "output_type": "stream",
     "text": [
      "Shape of x_mnl (9720, 2, 3, 1)\n",
      "Shape of x_ann (9720, 16)\n"
     ]
    }
   ],
   "source": [
    "scale = 1\n",
    "\n",
    "# Create x input for MNL layer, and rescale\n",
    "x_mnl = np.array([[np.divide(X['STORES1'], scale), np.divide(X['FOREIGN1'], scale)],\n",
    "                  [np.divide(X['STORES2'], scale), np.divide(X['FOREIGN2'], scale)],\n",
    "                  [np.divide(X['STORES3'], scale), np.divide(X['FOREIGN3'], scale)]])\n",
    "x_mnl = np.swapaxes(x_mnl, 0, 2)\n",
    "x_mnl = np.expand_dims(x_mnl, 3)\n",
    "print('Shape of x_mnl', x_mnl.shape)\n",
    "\n",
    "# Create x input for ANN layer\n",
    "x_ann = np.array([[X['CITY1'], X['TRANSPORT1'],X['NOISE1'],X['GREEN1'], X['CITY2'], X['TRANSPORT2'],X['NOISE2'],X['GREEN2'],X['CITY3'], X['TRANSPORT3'],X['NOISE3'],X['GREEN3'], X['SSTADT'], X['WOMAN'], X['AGE'], X['ENVCONC']]])\n",
    "x_ann = np.squeeze(np.swapaxes(x_ann, 0, 2))\n",
    "\n",
    "# Rescale input for the ANN part\n",
    "scaler = StandardScaler()  \n",
    "scaler.fit(x_ann)  \n",
    "x_ann = scaler.transform(x_ann)  \n",
    "print('Shape of x_ann',x_ann.shape)"
   ]
  },
  {
   "cell_type": "code",
   "execution_count": 14,
   "metadata": {},
   "outputs": [
    {
     "name": "stdout",
     "output_type": "stream",
     "text": [
      "Total number of obervations in the data set =  9720\n",
      "Number of obervations in the training set   =  6318\n",
      "Number of obervations in the test set       =  3402\n"
     ]
    }
   ],
   "source": [
    "# Split the data into a training and test part\n",
    "X_mnl_train, X_mnl_test, Y_train, Y_test = train_test_split(x_mnl, Y_cat, random_state = 1, test_size = 0.35)\n",
    "X_ann_train, X_ann_test, Y_train, Y_test = train_test_split(x_ann, Y_cat, random_state = 1, test_size = 0.35)\n",
    "print('Total number of obervations in the data set = ', len(x_mnl))\n",
    "print('Number of obervations in the training set   = ', len(X_mnl_train))\n",
    "print('Number of obervations in the test set       = ', len(X_mnl_test))"
   ]
  },
  {
   "cell_type": "code",
   "execution_count": 15,
   "metadata": {},
   "outputs": [
    {
     "name": "stdout",
     "output_type": "stream",
     "text": [
      "Model: \"model\"\n",
      "__________________________________________________________________________________________________\n",
      "Layer (type)                    Output Shape         Param #     Connected to                     \n",
      "==================================================================================================\n",
      "Features2ANN (InputLayer)       [(None, 16)]         0                                            \n",
      "__________________________________________________________________________________________________\n",
      "ANN_layer1 (Dense)              (None, 5)            85          Features2ANN[0][0]               \n",
      "__________________________________________________________________________________________________\n",
      "Features2MNL (InputLayer)       [(None, 2, 3, 1)]    0                                            \n",
      "__________________________________________________________________________________________________\n",
      "ANN_layer2 (Dense)              (None, 5)            30          ANN_layer1[0][0]                 \n",
      "__________________________________________________________________________________________________\n",
      "MNL_layer (Conv2D)              (None, 1, 3, 1)      2           Features2MNL[0][0]               \n",
      "__________________________________________________________________________________________________\n",
      "V_ANN (Dense)                   (None, 3)            18          ANN_layer2[0][0]                 \n",
      "__________________________________________________________________________________________________\n",
      "Flatten_Dim_MNL (Reshape)       (None, 3)            0           MNL_layer[0][0]                  \n",
      "__________________________________________________________________________________________________\n",
      "Flatten_Dim_ANN (Reshape)       (None, 3)            0           V_ANN[0][0]                      \n",
      "__________________________________________________________________________________________________\n",
      "Combining_Vs (Add)              (None, 3)            0           Flatten_Dim_MNL[0][0]            \n",
      "                                                                 Flatten_Dim_ANN[0][0]            \n",
      "__________________________________________________________________________________________________\n",
      "Probability (Activation)        (None, 3)            0           Combining_Vs[0][0]               \n",
      "==================================================================================================\n",
      "Total params: 135\n",
      "Trainable params: 135\n",
      "Non-trainable params: 0\n",
      "__________________________________________________________________________________________________\n"
     ]
    }
   ],
   "source": [
    "# COMPILE THE MODEL\n",
    "model.compile(optimizer = Adam(learning_rate = 0.001), metrics = [\"accuracy\"], loss = 'categorical_crossentropy')\n",
    "model.summary()"
   ]
  },
  {
   "cell_type": "code",
   "execution_count": 16,
   "metadata": {},
   "outputs": [
    {
     "name": "stderr",
     "output_type": "stream",
     "text": [
      "2021-09-28 17:29:38.343415: I tensorflow/compiler/mlir/mlir_graph_optimization_pass.cc:185] None of the MLIR Optimization Passes are enabled (registered 2)\n"
     ]
    },
    {
     "name": "stdout",
     "output_type": "stream",
     "text": [
      "Epoch 1/20\n",
      "198/198 [==============================] - 1s 2ms/step - loss: 1.1367 - accuracy: 0.4456 - val_loss: 0.9459 - val_accuracy: 0.5511\n",
      "Epoch 2/20\n",
      "198/198 [==============================] - 0s 983us/step - loss: 0.9176 - accuracy: 0.5671 - val_loss: 0.8848 - val_accuracy: 0.5844\n",
      "Epoch 3/20\n",
      "198/198 [==============================] - 0s 1ms/step - loss: 0.8800 - accuracy: 0.5901 - val_loss: 0.8649 - val_accuracy: 0.5935\n",
      "Epoch 4/20\n",
      "198/198 [==============================] - 0s 1ms/step - loss: 0.8648 - accuracy: 0.5928 - val_loss: 0.8570 - val_accuracy: 0.5891\n",
      "Epoch 5/20\n",
      "198/198 [==============================] - 0s 1ms/step - loss: 0.8568 - accuracy: 0.6015 - val_loss: 0.8521 - val_accuracy: 0.5873\n",
      "Epoch 6/20\n",
      "198/198 [==============================] - 0s 1ms/step - loss: 0.8517 - accuracy: 0.6005 - val_loss: 0.8476 - val_accuracy: 0.5894\n",
      "Epoch 7/20\n",
      "198/198 [==============================] - 0s 1ms/step - loss: 0.8487 - accuracy: 0.5983 - val_loss: 0.8444 - val_accuracy: 0.5855\n",
      "Epoch 8/20\n",
      "198/198 [==============================] - 0s 1ms/step - loss: 0.8469 - accuracy: 0.6037 - val_loss: 0.8438 - val_accuracy: 0.5785\n",
      "Epoch 9/20\n",
      "198/198 [==============================] - 0s 1ms/step - loss: 0.8446 - accuracy: 0.6002 - val_loss: 0.8430 - val_accuracy: 0.6032\n",
      "Epoch 10/20\n",
      "198/198 [==============================] - 0s 932us/step - loss: 0.8432 - accuracy: 0.6045 - val_loss: 0.8425 - val_accuracy: 0.5867\n",
      "Epoch 11/20\n",
      "198/198 [==============================] - 0s 941us/step - loss: 0.8423 - accuracy: 0.6041 - val_loss: 0.8394 - val_accuracy: 0.6099\n",
      "Epoch 12/20\n",
      "198/198 [==============================] - 0s 928us/step - loss: 0.8407 - accuracy: 0.6095 - val_loss: 0.8402 - val_accuracy: 0.5752\n",
      "Epoch 13/20\n",
      "198/198 [==============================] - 0s 933us/step - loss: 0.8403 - accuracy: 0.6024 - val_loss: 0.8375 - val_accuracy: 0.6105\n",
      "Epoch 14/20\n",
      "198/198 [==============================] - 0s 938us/step - loss: 0.8402 - accuracy: 0.6056 - val_loss: 0.8374 - val_accuracy: 0.5961\n",
      "Epoch 15/20\n",
      "198/198 [==============================] - 0s 998us/step - loss: 0.8391 - accuracy: 0.6051 - val_loss: 0.8367 - val_accuracy: 0.5973\n",
      "Epoch 16/20\n",
      "198/198 [==============================] - 0s 1ms/step - loss: 0.8391 - accuracy: 0.6043 - val_loss: 0.8364 - val_accuracy: 0.6020\n",
      "Epoch 17/20\n",
      "198/198 [==============================] - 0s 1ms/step - loss: 0.8385 - accuracy: 0.6035 - val_loss: 0.8374 - val_accuracy: 0.5952\n",
      "Epoch 18/20\n",
      "198/198 [==============================] - 0s 1ms/step - loss: 0.8383 - accuracy: 0.6072 - val_loss: 0.8373 - val_accuracy: 0.5864\n",
      "Epoch 19/20\n",
      "198/198 [==============================] - 0s 1ms/step - loss: 0.8383 - accuracy: 0.6073 - val_loss: 0.8363 - val_accuracy: 0.6085\n",
      "Epoch 20/20\n",
      "198/198 [==============================] - 0s 1ms/step - loss: 0.8376 - accuracy: 0.6094 - val_loss: 0.8358 - val_accuracy: 0.5985\n"
     ]
    }
   ],
   "source": [
    "# TRAIN THE NETWORK\n",
    "early_stopping = EarlyStopping(patience = 4, monitor = 'val_loss')\n",
    "history = model.fit([X_mnl_train, X_ann_train],Y_train, epochs = nEpoch, verbose = 1, validation_data = ([X_mnl_test, X_ann_test], Y_test), callbacks = [early_stopping])\n",
    "\n",
    "betas_layer = model.get_layer(name = 'MNL_layer')\n",
    "betas = betas_layer.get_weights()"
   ]
  },
  {
   "cell_type": "code",
   "execution_count": 17,
   "metadata": {},
   "outputs": [
    {
     "name": "stdout",
     "output_type": "stream",
     "text": [
      "Cross-entropy training data at final epoch  =  0.838\n",
      "Log-likelihood training data at final epoch =  -5291.8\n",
      "rho square training data at final epoch     =  0.24\n",
      "\n",
      "Cross-entropy test data at final epoch     =  0.836\n",
      "Log-likelihood test data at final epoch    =  -2843.4\n",
      "rho square test data at final epoch        =  0.24\n"
     ]
    },
    {
     "data": {
      "image/png": "[encoded data removed]",
      "text/plain": [
       "<Figure size 432x288 with 2 Axes>"
      ]
     },
     "metadata": {
      "needs_background": "light"
     },
     "output_type": "display_data"
    }
   ],
   "source": [
    "# plot loss as a function of epochs\n",
    "plt.subplot(211)\n",
    "plt.title('Cross Entropy Loss')\n",
    "plt.plot(history.history['loss'],     color = 'blue', label = 'train')\n",
    "plt.plot(history.history['val_loss'], color = 'red', label = 'test')\n",
    "plt.ylim(0.4,1)\n",
    "\n",
    "# plot accuracy\n",
    "plt.subplot(212)\n",
    "plt.title('Classification Accuracy')\n",
    "plt.plot(history.history['accuracy'],     color = 'blue', label = 'train')\n",
    "plt.plot(history.history['val_accuracy'], color = 'red', label = 'test')\n",
    "plt.ylim(0, 1)\n",
    "plt.legend()\n",
    "\n",
    "# Tweak spacing between subplots to prevent labels from overlapping\n",
    "plt.subplots_adjust(hspace = 0.5)\n",
    "\n",
    "# For comparison convert the loss to log-likelihood and rho^2\n",
    "hist_loss_train = history.history.get('loss')\n",
    "LL_final_train = -np.array(hist_loss_train[len(hist_loss_train)-1]) *len(Y_train)\n",
    "print('Cross-entropy training data at final epoch  = ', \"{:.3f}\".format(hist_loss_train[len(hist_loss_train)-1]))\n",
    "print('Log-likelihood training data at final epoch = ', \"{:.1f}\".format(LL_final_train))\n",
    "print('rho square training data at final epoch     = ', \"{:.2f}\".format(1 - LL_final_train / -(len(Y_train)*np.log(3))))\n",
    "print()\n",
    "\n",
    "hist_loss_test = history.history.get('val_loss')\n",
    "LL_final_test = -np.array(hist_loss_test[len(hist_loss_test)-1]) *len(Y_test)\n",
    "print('Cross-entropy test data at final epoch     = ', \"{:.3f}\".format(hist_loss_test[len(hist_loss_test)-1]))\n",
    "print('Log-likelihood test data at final epoch    = ', \"{:.1f}\".format(LL_final_test))\n",
    "print('rho square test data at final epoch        = ', \"{:.2f}\".format(1 - LL_final_test / -(len(Y_test)*np.log(3))))"
   ]
  },
  {
   "cell_type": "markdown",
   "metadata": {},
   "source": [
    "<font color='red'>\n",
    "\n",
    "**ANSWER Q4** <br>\n",
    "\n",
    "The cross-entropy of the hybrid model on the test data = 0.836 <br>\n",
    "The cross entropy of the DCM                           = 0.889 <br>\n",
    "Hence, the hybrid model improves the performance, albeit not so dramatically"
   ]
  },
  {
   "cell_type": "markdown",
   "metadata": {},
   "source": [
    "### Q5. Compute the WtP of the average decision maker to reduce the share of foreigners in a neighbourhood by 1 percentage point using the results from the hybrid model. Compare the outcome with the results of your discrete choice model (0.5 pts)"
   ]
  },
  {
   "cell_type": "code",
   "execution_count": 18,
   "metadata": {},
   "outputs": [
    {
     "name": "stdout",
     "output_type": "stream",
     "text": [
      "Beta_distSTORES     =  -0.039\n",
      "Beta_shareFOREIGN =  -1.047\n",
      "The WtP to reduce the share of foreigners =  0.27 minutes per percentage point decrease in share of foreigners\n",
      "\n"
     ]
    }
   ],
   "source": [
    "# Show the trained taste parameters, from the MNL part\n",
    "beta_distSTORES = np.squeeze((betas[0][0]))\n",
    "beta_shareFOREIGN = np.squeeze((betas[0][1]))\n",
    "print('Beta_distSTORES     = ', \"{:.3f}\".format(beta_distSTORES )) \n",
    "print('Beta_shareFOREIGN = ', \"{:.3f}\".format(beta_shareFOREIGN ))\n",
    "\n",
    "# Compute the Willingness to Pay for a Gb extra storage space\n",
    "WtP = beta_shareFOREIGN/(beta_distSTORES*100)\n",
    "print('The WtP to reduce the share of foreigners = ', \"{:.2f}\".format(WtP),'minutes per percentage point decrease in share of foreigners')\n",
    "print()"
   ]
  },
  {
   "cell_type": "markdown",
   "metadata": {},
   "source": [
    "<font color='red'>\n",
    "\n",
    "**ANSWER Q5** <br>\n",
    "    \n",
    "The WtP to reduce the share of foreigners is ~0.4 minutes per percentage point decrease in the share of foreigners.\n",
    "This is slightly higher that the DCM, but reasonably so. Still in the same order of magnitude."
   ]
  },
  {
   "cell_type": "markdown",
   "metadata": {},
   "source": [
    "### Q6. Explore whether, or not, the preferences of the inhabitants of the four cities regarding the trade-off between share of foreigners and distance to grocery stores are equal across the four cities. (1.5 pts)\n",
    "\n",
    "Perform a series of (clever) analyses, and interpret the findings. In other words, can we conclude that the inhabintants of all cities are equally xenophobic? For these analysis, use hybrid models, and/or DCMs.\n",
    "\n",
    "**Hint:** create new features capturing for the share of foreigners *per city*. "
   ]
  },
  {
   "cell_type": "code",
   "execution_count": null,
   "metadata": {},
   "outputs": [],
   "source": [
    "NALT = 3           # Number of alterantives in the data set.\n",
    "no_X_MNL =   5     # Number of attributes with behavioural interest (-->MNL model part). In this case distStores (1) & foreigner share PER city (4)\n",
    "no_X_ANN = 3*4+3   # Number of features without behavioural interest (-->ANN model part). \n",
    "num_nodes = 5      # Number of nodes in hidden layer(s). Again we use 2 hidden layers with *num_nodes* nodes each\n",
    "nEpoch = 20        # Number epochs for training (max). \n",
    "\n",
    "# INPUT FOR MNL PART\n",
    "X_MNL = Input((no_X_MNL, NALT,1), name = 'Features2MNL')\n",
    "\n",
    "# COMPUTE UTILITY FOR MNL\n",
    "V_MNL = Conv2D(filters = 1, kernel_size = [no_X_MNL,1], strides = (1,1), padding = 'valid', name = 'MNL_layer', use_bias = False, trainable = True)(X_MNL)\n",
    "\n",
    "# INPUT FOR ANN PART\n",
    "X_ANN = Input((no_X_ANN), name ='Features2ANN')\n",
    "\n",
    "# CREATE HIDDEN LAYER(S) OF ANN\n",
    "layer1_ANN = Dense(units = num_nodes, name = \"ANN_layer1\", use_bias = True)(X_ANN)           # In the original code Convoultion later was used here. That seems incorrect to me\n",
    "layer2_ANN = Dense(units = num_nodes, name = \"ANN_layer2\", use_bias = True)(layer1_ANN)\n",
    "\n",
    "# COMPUTE UTILITY FOR ANN \n",
    "V_ANN = Dense(units = NALT, name = \"V_ANN\")(layer2_ANN)\n",
    "\n",
    "# RESHAPE TENSORS TO [1 X NALT]\n",
    "V_MNL = Reshape([NALT], name = 'Flatten_Dim_MNL')(V_MNL)\n",
    "V_ANN = Reshape([NALT], name = 'Flatten_Dim_ANN')(V_ANN) \n",
    "\n",
    "# SUM THE UTILITIES OF BOTH MODEL PARTS\n",
    "V_MNL_ANN = Add(name = \"Combining_Vs\")([V_MNL,V_ANN])\n",
    "\n",
    "# CREATE LOGIT (AKA SOFTMAX ) OUTPUT LAYER\n",
    "logits = Activation('softmax', name = 'Probability')(V_MNL_ANN)\n",
    "\n",
    "# BUILD THE MODEL\n",
    "model = Model(inputs = [X_MNL, X_ANN], outputs = logits)"
   ]
  },
  {
   "cell_type": "code",
   "execution_count": null,
   "metadata": {},
   "outputs": [],
   "source": [
    "scale = 1\n",
    "# Create interactions for the feature FOREIGNER with the CITY\n",
    "XF1S1 = np.array(X['FOREIGN1']) * np.equal(np.array(X['SSTADT']),1)\n",
    "XF1S2 = np.array(X['FOREIGN1']) * np.equal(np.array(X['SSTADT']),2)\n",
    "XF1S3 = np.array(X['FOREIGN1']) * np.equal(np.array(X['SSTADT']),3)\n",
    "XF1S4 = np.array(X['FOREIGN1']) * np.equal(np.array(X['SSTADT']),4)\n",
    "\n",
    "XF2S1 = np.array(X['FOREIGN2']) * np.equal(np.array(X['SSTADT']),1)\n",
    "XF2S2 = np.array(X['FOREIGN2']) * np.equal(np.array(X['SSTADT']),2)\n",
    "XF2S3 = np.array(X['FOREIGN2']) * np.equal(np.array(X['SSTADT']),3)\n",
    "XF2S4 = np.array(X['FOREIGN2']) * np.equal(np.array(X['SSTADT']),4)\n",
    "\n",
    "XF3S1 = np.array(X['FOREIGN3']) * np.equal(np.array(X['SSTADT']),1)\n",
    "XF3S2 = np.array(X['FOREIGN3']) * np.equal(np.array(X['SSTADT']),2)\n",
    "XF3S3 = np.array(X['FOREIGN3']) * np.equal(np.array(X['SSTADT']),3)\n",
    "XF3S4 = np.array(X['FOREIGN3']) * np.equal(np.array(X['SSTADT']),4)\n",
    "\n",
    "# Reshape arrays\n",
    "XF1S1 = XF1S1.reshape(9720,1)\n",
    "XF1S2 = XF1S2.reshape(9720,1)\n",
    "XF1S3 = XF1S3.reshape(9720,1)\n",
    "XF1S4 = XF1S4.reshape(9720,1)\n",
    "\n",
    "XF2S1 = XF2S1.reshape(9720,1)\n",
    "XF2S2 = XF2S2.reshape(9720,1)\n",
    "XF2S3 = XF2S3.reshape(9720,1)\n",
    "XF2S4 = XF2S4.reshape(9720,1)\n",
    "\n",
    "XF3S1 = XF3S1.reshape(9720,1)\n",
    "XF3S2 = XF3S2.reshape(9720,1)\n",
    "XF3S3 = XF3S3.reshape(9720,1)\n",
    "XF3S4 = XF3S4.reshape(9720,1)\n",
    "\n",
    "XS1 = np.array(X['STORES1'])\n",
    "XS2 = np.array(X['STORES2'])\n",
    "XS3 = np.array(X['STORES3'])\n",
    "\n",
    "XS1 = XS1.reshape(9720,1)\n",
    "XS2 = XS2.reshape(9720,1)\n",
    "XS3 = XS3.reshape(9720,1)\n",
    "\n",
    "Xalt1 = np.concatenate((XS1, XF1S1, XF1S2, XF1S3, XF1S4),axis=1)\n",
    "Xalt2 = np.concatenate((XS2, XF2S1, XF2S2, XF2S3, XF2S4),axis=1)\n",
    "Xalt3 = np.concatenate((XS3, XF3S1, XF3S2, XF3S3, XF3S4),axis=1)\n",
    "\n",
    "# Create x input for MNL layer, and rescale\n",
    "x_mnl_con = np.dstack((Xalt1,Xalt2,Xalt3))\n",
    "x_mnl_con = np.expand_dims(x_mnl_con,3)\n",
    "print('shape x_mnl_con =',x_mnl_con.shape)\n",
    "\n",
    "# Create x input for ANN layer\n",
    "x_ann = np.array([[X['CITY1'], X['TRANSPORT1'],X['NOISE1'],X['GREEN1'], X['CITY2'], X['TRANSPORT2'],X['NOISE2'],X['GREEN2'],X['CITY3'], X['TRANSPORT3'],X['NOISE3'],X['GREEN3'], X['WOMAN'], X['AGE'], X['ENVCONC']]])\n",
    "x_ann = np.squeeze(np.swapaxes(x_ann, 0, 2))\n",
    "\n",
    "# Rescale input for the ANN part\n",
    "scaler = StandardScaler()  \n",
    "scaler.fit(x_ann)  \n",
    "x_ann = scaler.transform(x_ann)  \n",
    "print('Shape of x_ann',x_ann.shape)"
   ]
  },
  {
   "cell_type": "code",
   "execution_count": null,
   "metadata": {},
   "outputs": [],
   "source": [
    "# Split the data into a training and test part\n",
    "X_mnl_train, X_mnl_test, Y_train, Y_test = train_test_split(x_mnl_con, Y_cat, random_state = 1, test_size = 0.35)\n",
    "X_ann_train, X_ann_test, Y_train, Y_test = train_test_split(x_ann, Y_cat, random_state = 1, test_size = 0.35)\n",
    "print('Total number of obervations in the data set = ', len(x_mnl))\n",
    "print('Number of obervations in the training set   = ', len(X_mnl_train))\n",
    "print('Number of obervations in the test set       = ', len(X_mnl_test))\n",
    "\n",
    "# COMPILE THE MODEL\n",
    "model.compile(optimizer = Adam(learning_rate = 0.001), metrics = [\"accuracy\"], loss = 'categorical_crossentropy')\n",
    "model.summary()\n",
    "\n",
    "# TRAIN THE NETWORK\n",
    "early_stopping = EarlyStopping(patience = 4, monitor = 'val_loss')\n",
    "history = model.fit([X_mnl_train, X_ann_train],Y_train, epochs = nEpoch, verbose = 1, validation_data = ([X_mnl_test, X_ann_test], Y_test), callbacks = [early_stopping])\n",
    "\n",
    "betas_layer = model.get_layer(name = 'MNL_layer')\n",
    "betas = betas_layer.get_weights()"
   ]
  },
  {
   "cell_type": "code",
   "execution_count": null,
   "metadata": {},
   "outputs": [],
   "source": [
    "# plot loss as a function of epochs\n",
    "plt.subplot(211)\n",
    "plt.title('Cross Entropy Loss')\n",
    "plt.plot(history.history['loss'],     color = 'blue', label = 'train')\n",
    "plt.plot(history.history['val_loss'], color = 'red', label = 'test')\n",
    "plt.ylim(0.4,1)\n",
    "\n",
    "# plot accuracy\n",
    "plt.subplot(212)\n",
    "plt.title('Classification Accuracy')\n",
    "plt.plot(history.history['accuracy'],     color = 'blue', label = 'train')\n",
    "plt.plot(history.history['val_accuracy'], color = 'red', label = 'test')\n",
    "plt.ylim(0, 1)\n",
    "plt.legend()\n",
    "\n",
    "# Tweak spacing between subplots to prevent labels from overlapping\n",
    "plt.subplots_adjust(hspace = 0.5)\n",
    "\n",
    "# For comparison convert the loss to log-likelihood and rho^2\n",
    "hist_loss_train = history.history.get('loss')\n",
    "LL_final_train = -np.array(hist_loss_train[len(hist_loss_train)-1]) *len(Y_train)\n",
    "print('Cross-entropy training data at final epoch  = ', \"{:.3f}\".format(hist_loss_train[len(hist_loss_train)-1]))\n",
    "print('Log-likelihood training data at final epoch = ', \"{:.1f}\".format(LL_final_train))\n",
    "print('rho square training data at final epoch     = ', \"{:.2f}\".format(1 - LL_final_train / -(len(Y_train)*np.log(3))))\n",
    "print()\n",
    "\n",
    "hist_loss_test = history.history.get('val_loss')\n",
    "LL_final_test = -np.array(hist_loss_test[len(hist_loss_test)-1]) *len(Y_test)\n",
    "print('Cross-entropy test data at final epoch     = ', \"{:.3f}\".format(hist_loss_test[len(hist_loss_test)-1]))\n",
    "print('Log-likelihood test data at final epoch    = ', \"{:.1f}\".format(LL_final_test))\n",
    "print('rho square test data at final epoch        = ', \"{:.2f}\".format(1 - LL_final_test / -(len(Y_test)*np.log(3))))"
   ]
  },
  {
   "cell_type": "code",
   "execution_count": null,
   "metadata": {},
   "outputs": [],
   "source": [
    "# Show the trained taste parameters, from the MNL part\n",
    "beta_distSTORES = np.squeeze((betas[0][0]))\n",
    "beta_shareFOREIGN_S1 = np.squeeze((betas[0][1]))\n",
    "beta_shareFOREIGN_S2 = np.squeeze((betas[0][2]))\n",
    "beta_shareFOREIGN_S3 = np.squeeze((betas[0][3]))\n",
    "beta_shareFOREIGN_S4 = np.squeeze((betas[0][4]))\n",
    "print('Beta_distSTORES     = ', \"{:.3f}\".format(beta_distSTORES )) \n",
    "print('Beta_shareFOREIGN_S1 = ', \"{:.3f}\".format(beta_shareFOREIGN_S1 ))\n",
    "print('Beta_shareFOREIGN_S2 = ', \"{:.3f}\".format(beta_shareFOREIGN_S2 ))\n",
    "print('Beta_shareFOREIGN_S3 = ', \"{:.3f}\".format(beta_shareFOREIGN_S3 ))\n",
    "print('Beta_shareFOREIGN_S4 = ', \"{:.3f}\".format(beta_shareFOREIGN_S4 ))\n",
    "\n",
    "# Compute the Willingness to Pay for a Gb extra storage space\n",
    "WtP_S1 = beta_shareFOREIGN_S1/(beta_distSTORES*100)\n",
    "WtP_S2 = beta_shareFOREIGN_S2/(beta_distSTORES*100)\n",
    "WtP_S3 = beta_shareFOREIGN_S3/(beta_distSTORES*100)\n",
    "WtP_S4 = beta_shareFOREIGN_S4/(beta_distSTORES*100)\n",
    "print('The WtP to reduce the share of foreigners = ', \"{:.2f}\".format(WtP_S1),'minutes per percentage point decrease in share of foreigners')\n",
    "print('The WtP to reduce the share of foreigners = ', \"{:.2f}\".format(WtP_S2),'minutes per percentage point decrease in share of foreigners')\n",
    "print('The WtP to reduce the share of foreigners = ', \"{:.2f}\".format(WtP_S3),'minutes per percentage point decrease in share of foreigners')\n",
    "print('The WtP to reduce the share of foreigners = ', \"{:.2f}\".format(WtP_S4),'minutes per percentage point decrease in share of foreigners')\n",
    "print()"
   ]
  },
  {
   "cell_type": "markdown",
   "metadata": {},
   "source": [
    "<font color='red'>\n",
    "\n",
    "**ANSWER Q6** <br>\n",
    "\n",
    "What we see here is that inhabitants in the two german cities are willing to trade-in considerably more travel time to the grovery stores than their german counter parts to reduce the share of foreigners with 1 percentage point. "
   ]
  },
  {
   "cell_type": "code",
   "execution_count": null,
   "metadata": {},
   "outputs": [],
   "source": [
    "# ALTERNATIVELY, BOTH THE SHARE OF FOREIGNERS AND THE STORES ARE INTERACTED WITH THE CITY. THIS WILL GIVE THE SAME OUTCOMES:\n",
    "\n",
    "NALT = 3           # Number of alterantives in the data set.\n",
    "no_X_MNL =   8     # Number of attributes with behavioural interest (-->MNL model part). In this case distStores (1) & foreigner share PER city (4)\n",
    "no_X_ANN = 3*4+3   # Number of features without behavioural interest (-->ANN model part). \n",
    "num_nodes = 5      # Number of nodes in hidden layer(s). Again we use 2 hidden layers with *num_nodes* nodes each\n",
    "nEpoch = 20        # Number epochs for training (max). \n",
    "\n",
    "# INPUT FOR MNL PART\n",
    "X_MNL = Input((no_X_MNL, NALT,1), name = 'Features2MNL')\n",
    "\n",
    "# COMPUTE UTILITY FOR MNL\n",
    "V_MNL = Conv2D(filters = 1, kernel_size = [no_X_MNL,1], strides = (1,1), padding = 'valid', name = 'MNL_layer', use_bias = False, trainable = True)(X_MNL)\n",
    "\n",
    "# INPUT FOR ANN PART\n",
    "X_ANN = Input((no_X_ANN), name ='Features2ANN')\n",
    "\n",
    "# CREATE HIDDEN LAYER(S) OF ANN\n",
    "layer1_ANN = Dense(units = num_nodes, name = \"ANN_layer1\", use_bias = True)(X_ANN)           # In the original code Convoultion later was used here. That seems incorrect to me\n",
    "layer2_ANN = Dense(units = num_nodes, name = \"ANN_layer2\", use_bias = True)(layer1_ANN)\n",
    "\n",
    "# COMPUTE UTILITY FOR ANN \n",
    "V_ANN = Dense(units = NALT, name = \"V_ANN\")(layer2_ANN)\n",
    "\n",
    "# RESHAPE TENSORS TO [1 X NALT]\n",
    "V_MNL = Reshape([NALT], name = 'Flatten_Dim_MNL')(V_MNL)\n",
    "V_ANN = Reshape([NALT], name = 'Flatten_Dim_ANN')(V_ANN) \n",
    "\n",
    "# SUM THE UTILITIES OF BOTH MODEL PARTS\n",
    "V_MNL_ANN = Add(name = \"Combining_Vs\")([V_MNL,V_ANN])\n",
    "\n",
    "# CREATE LOGIT (AKA SOFTMAX ) OUTPUT LAYER\n",
    "logits = Activation('softmax', name = 'Probability')(V_MNL_ANN)\n",
    "\n",
    "# BUILD THE MODEL\n",
    "model = Model(inputs = [X_MNL, X_ANN], outputs = logits)"
   ]
  },
  {
   "cell_type": "code",
   "execution_count": null,
   "metadata": {},
   "outputs": [],
   "source": [
    "scale = 1\n",
    "\n",
    "# Create interactions for the feature FOREIGNER with the CITY\n",
    "XF1S1 = np.array(X['FOREIGN1']) * np.equal(np.array(X['SSTADT']),1)\n",
    "XF1S2 = np.array(X['FOREIGN1']) * np.equal(np.array(X['SSTADT']),2)\n",
    "XF1S3 = np.array(X['FOREIGN1']) * np.equal(np.array(X['SSTADT']),3)\n",
    "XF1S4 = np.array(X['FOREIGN1']) * np.equal(np.array(X['SSTADT']),4)\n",
    "XF2S1 = np.array(X['FOREIGN2']) * np.equal(np.array(X['SSTADT']),1)\n",
    "XF2S2 = np.array(X['FOREIGN2']) * np.equal(np.array(X['SSTADT']),2)\n",
    "XF2S3 = np.array(X['FOREIGN2']) * np.equal(np.array(X['SSTADT']),3)\n",
    "XF2S4 = np.array(X['FOREIGN2']) * np.equal(np.array(X['SSTADT']),4)\n",
    "XF3S1 = np.array(X['FOREIGN3']) * np.equal(np.array(X['SSTADT']),1)\n",
    "XF3S2 = np.array(X['FOREIGN3']) * np.equal(np.array(X['SSTADT']),2)\n",
    "XF3S3 = np.array(X['FOREIGN3']) * np.equal(np.array(X['SSTADT']),3)\n",
    "XF3S4 = np.array(X['FOREIGN3']) * np.equal(np.array(X['SSTADT']),4)\n",
    "\n",
    "# Create interactions for the feature STORES with the CITY\n",
    "XS1S1 = np.array(X['STORES1']) * np.equal(np.array(X['SSTADT']),1)\n",
    "XS1S2 = np.array(X['STORES1']) * np.equal(np.array(X['SSTADT']),2)\n",
    "XS1S3 = np.array(X['STORES1']) * np.equal(np.array(X['SSTADT']),3)\n",
    "XS1S4 = np.array(X['STORES1']) * np.equal(np.array(X['SSTADT']),4)\n",
    "XS2S1 = np.array(X['STORES2']) * np.equal(np.array(X['SSTADT']),1)\n",
    "XS2S2 = np.array(X['STORES2']) * np.equal(np.array(X['SSTADT']),2)\n",
    "XS2S3 = np.array(X['STORES2']) * np.equal(np.array(X['SSTADT']),3)\n",
    "XS2S4 = np.array(X['STORES2']) * np.equal(np.array(X['SSTADT']),4)\n",
    "XS3S1 = np.array(X['STORES3']) * np.equal(np.array(X['SSTADT']),1)\n",
    "XS3S2 = np.array(X['STORES3']) * np.equal(np.array(X['SSTADT']),2)\n",
    "XS3S3 = np.array(X['STORES3']) * np.equal(np.array(X['SSTADT']),3)\n",
    "XS3S4 = np.array(X['STORES3']) * np.equal(np.array(X['SSTADT']),4)\n",
    "\n",
    "# Reshape arrays\n",
    "XF1S1 = XF1S1.reshape(9720,1)\n",
    "XF1S2 = XF1S2.reshape(9720,1)\n",
    "XF1S3 = XF1S3.reshape(9720,1)\n",
    "XF1S4 = XF1S4.reshape(9720,1)\n",
    "XF2S1 = XF2S1.reshape(9720,1)\n",
    "XF2S2 = XF2S2.reshape(9720,1)\n",
    "XF2S3 = XF2S3.reshape(9720,1)\n",
    "XF2S4 = XF2S4.reshape(9720,1)\n",
    "XF3S1 = XF3S1.reshape(9720,1)\n",
    "XF3S2 = XF3S2.reshape(9720,1)\n",
    "XF3S3 = XF3S3.reshape(9720,1)\n",
    "XF3S4 = XF3S4.reshape(9720,1)\n",
    "\n",
    "XS1S1 = XS1S1.reshape(9720,1)\n",
    "XS1S2 = XS1S2.reshape(9720,1)\n",
    "XS1S3 = XS1S3.reshape(9720,1)\n",
    "XS1S4 = XS1S4.reshape(9720,1)\n",
    "XS2S1 = XS2S1.reshape(9720,1)\n",
    "XS2S2 = XS2S2.reshape(9720,1)\n",
    "XS2S3 = XS2S3.reshape(9720,1)\n",
    "XS2S4 = XS2S4.reshape(9720,1)\n",
    "XS3S1 = XS3S1.reshape(9720,1)\n",
    "XS3S2 = XS3S2.reshape(9720,1)\n",
    "XS3S3 = XS3S3.reshape(9720,1)\n",
    "XS3S4 = XS3S4.reshape(9720,1)\n",
    "\n",
    "# Concatenate features for MNL part\n",
    "Xalt1 = np.concatenate((XS1S1, XS1S2, XS1S3, XS1S4, XF1S1, XF1S2, XF1S3, XF1S4),axis=1)\n",
    "Xalt2 = np.concatenate((XS2S1, XS2S2, XS2S3, XS2S4, XF2S1, XF2S2, XF2S3, XF2S4),axis=1)\n",
    "Xalt3 = np.concatenate((XS3S1, XS3S2, XS3S3, XS3S4, XF3S1, XF3S2, XF3S3, XF3S4),axis=1)\n",
    "\n",
    "# Create x input for MNL layer, and rescale\n",
    "x_mnl_con = np.dstack((Xalt1,Xalt2,Xalt3))\n",
    "x_mnl_con = np.expand_dims(x_mnl_con,3)\n",
    "print('shape x_mnl_con =',x_mnl_con.shape)\n",
    "\n",
    "# Create x input for ANN layer\n",
    "x_ann = np.array([[X['CITY1'], X['TRANSPORT1'],X['NOISE1'],X['GREEN1'], X['CITY2'], X['TRANSPORT2'],X['NOISE2'],X['GREEN2'],X['CITY3'], X['TRANSPORT3'],X['NOISE3'],X['GREEN3'], X['WOMAN'], X['AGE'], X['ENVCONC']]])\n",
    "x_ann = np.squeeze(np.swapaxes(x_ann, 0, 2))\n",
    "\n",
    "# Rescale input for the ANN part\n",
    "scaler = StandardScaler()  \n",
    "scaler.fit(x_ann)  \n",
    "x_ann = scaler.transform(x_ann)  \n",
    "print('Shape of x_ann',x_ann.shape)"
   ]
  },
  {
   "cell_type": "code",
   "execution_count": null,
   "metadata": {},
   "outputs": [],
   "source": [
    "# Split the data into a training and test part\n",
    "X_mnl_train, X_mnl_test, Y_train, Y_test = train_test_split(x_mnl_con, Y_cat, random_state = 1, test_size = 0.35)\n",
    "X_ann_train, X_ann_test, Y_train, Y_test = train_test_split(x_ann, Y_cat, random_state = 1, test_size = 0.35)\n",
    "print('Total number of obervations in the data set = ', len(x_mnl))\n",
    "print('Number of obervations in the training set   = ', len(X_mnl_train))\n",
    "print('Number of obervations in the test set       = ', len(X_mnl_test))\n",
    "\n",
    "# COMPILE THE MODEL\n",
    "model.compile(optimizer = Adam(learning_rate = 0.001), metrics = [\"accuracy\"], loss = 'categorical_crossentropy')\n",
    "model.summary()\n",
    "\n",
    "# TRAIN THE NETWORK\n",
    "early_stopping = EarlyStopping(patience = 4, monitor = 'val_loss')\n",
    "history = model.fit([X_mnl_train, X_ann_train],Y_train, epochs = nEpoch, verbose = 1, validation_data = ([X_mnl_test, X_ann_test], Y_test), callbacks = [early_stopping])\n",
    "\n",
    "betas_layer = model.get_layer(name = 'MNL_layer')\n",
    "betas = betas_layer.get_weights()"
   ]
  },
  {
   "cell_type": "code",
   "execution_count": null,
   "metadata": {},
   "outputs": [],
   "source": [
    "# plot loss as a function of epochs\n",
    "plt.subplot(211)\n",
    "plt.title('Cross Entropy Loss')\n",
    "plt.plot(history.history['loss'],     color = 'blue', label = 'train')\n",
    "plt.plot(history.history['val_loss'], color = 'red', label = 'test')\n",
    "plt.ylim(0.4,1)\n",
    "\n",
    "# plot accuracy\n",
    "plt.subplot(212)\n",
    "plt.title('Classification Accuracy')\n",
    "plt.plot(history.history['accuracy'],     color = 'blue', label = 'train')\n",
    "plt.plot(history.history['val_accuracy'], color = 'red', label = 'test')\n",
    "plt.ylim(0, 1)\n",
    "plt.legend()\n",
    "\n",
    "# Tweak spacing between subplots to prevent labels from overlapping\n",
    "plt.subplots_adjust(hspace = 0.5)\n",
    "\n",
    "# For comparison convert the loss to log-likelihood and rho^2\n",
    "hist_loss_train = history.history.get('loss')\n",
    "LL_final_train = -np.array(hist_loss_train[len(hist_loss_train)-1]) *len(Y_train)\n",
    "print('Cross-entropy training data at final epoch  = ', \"{:.3f}\".format(hist_loss_train[len(hist_loss_train)-1]))\n",
    "print('Log-likelihood training data at final epoch = ', \"{:.1f}\".format(LL_final_train))\n",
    "print('rho square training data at final epoch     = ', \"{:.2f}\".format(1 - LL_final_train / -(len(Y_train)*np.log(3))))\n",
    "print()\n",
    "\n",
    "hist_loss_test = history.history.get('val_loss')\n",
    "LL_final_test = -np.array(hist_loss_test[len(hist_loss_test)-1]) *len(Y_test)\n",
    "print('Cross-entropy test data at final epoch     = ', \"{:.3f}\".format(hist_loss_test[len(hist_loss_test)-1]))\n",
    "print('Log-likelihood test data at final epoch    = ', \"{:.1f}\".format(LL_final_test))\n",
    "print('rho square test data at final epoch        = ', \"{:.2f}\".format(1 - LL_final_test / -(len(Y_test)*np.log(3))))"
   ]
  },
  {
   "cell_type": "code",
   "execution_count": null,
   "metadata": {},
   "outputs": [],
   "source": [
    "# Show the trained taste parameters, from the MNL part\n",
    "beta_distSTORES_S1 = np.squeeze((betas[0][0]))\n",
    "beta_distSTORES_S2 = np.squeeze((betas[0][1]))\n",
    "beta_distSTORES_S3 = np.squeeze((betas[0][2]))\n",
    "beta_distSTORES_S4 = np.squeeze((betas[0][3]))\n",
    "beta_shareFOREIGN_S1 = np.squeeze((betas[0][4]))\n",
    "beta_shareFOREIGN_S2 = np.squeeze((betas[0][5]))\n",
    "beta_shareFOREIGN_S3 = np.squeeze((betas[0][6]))\n",
    "beta_shareFOREIGN_S4 = np.squeeze((betas[0][7]))\n",
    "print('Beta_distSTORES_S1   = ', \"{:.3f}\".format(beta_distSTORES_S1 )) \n",
    "print('Beta_distSTORES_S2   = ', \"{:.3f}\".format(beta_distSTORES_S2 )) \n",
    "print('Beta_distSTORES_S3   = ', \"{:.3f}\".format(beta_distSTORES_S3 )) \n",
    "print('Beta_distSTORES_S4   = ', \"{:.3f}\".format(beta_distSTORES_S4 )) \n",
    "print('Beta_shareFOREIGN_S1 = ', \"{:.3f}\".format(beta_shareFOREIGN_S1 ))\n",
    "print('Beta_shareFOREIGN_S2 = ', \"{:.3f}\".format(beta_shareFOREIGN_S2 ))\n",
    "print('Beta_shareFOREIGN_S3 = ', \"{:.3f}\".format(beta_shareFOREIGN_S3 ))\n",
    "print('Beta_shareFOREIGN_S4 = ', \"{:.3f}\".format(beta_shareFOREIGN_S4 ))\n",
    "\n",
    "# Compute the Willingness to Pay for a Gb extra storage space\n",
    "WtP_S1 = beta_shareFOREIGN_S1/(beta_distSTORES_S1*100)\n",
    "WtP_S2 = beta_shareFOREIGN_S2/(beta_distSTORES_S2*100)\n",
    "WtP_S3 = beta_shareFOREIGN_S3/(beta_distSTORES_S3*100)\n",
    "WtP_S4 = beta_shareFOREIGN_S4/(beta_distSTORES_S4*100)\n",
    "print('The WtP to reduce the share of foreigners = ', \"{:.2f}\".format(WtP_S1),'minutes per percentage point decrease in share of foreigners')\n",
    "print('The WtP to reduce the share of foreigners = ', \"{:.2f}\".format(WtP_S2),'minutes per percentage point decrease in share of foreigners')\n",
    "print('The WtP to reduce the share of foreigners = ', \"{:.2f}\".format(WtP_S3),'minutes per percentage point decrease in share of foreigners')\n",
    "print('The WtP to reduce the share of foreigners = ', \"{:.2f}\".format(WtP_S4),'minutes per percentage point decrease in share of foreigners')\n",
    "print()"
   ]
  }
 ],
 "metadata": {
  "interpreter": {
   "hash": "1baa965d5efe3ac65b79dfc60c0d706280b1da80fedb7760faf2759126c4f253"
  },
  "kernelspec": {
   "display_name": "Python3.9 (cs4305tu)",
   "language": "python",
   "name": "cs4305tu"
  },
  "language_info": {
   "codemirror_mode": {
    "name": "ipython",
    "version": 3
   },
   "file_extension": ".py",
   "mimetype": "text/x-python",
   "name": "python",
   "nbconvert_exporter": "python",
   "pygments_lexer": "ipython3",
   "version": "3.9.6"
  }
 },
 "nbformat": 4,
 "nbformat_minor": 2
}
